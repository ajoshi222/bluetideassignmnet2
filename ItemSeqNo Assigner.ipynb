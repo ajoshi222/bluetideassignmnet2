{
 "cells": [
  {
   "cell_type": "code",
   "execution_count": 3,
   "id": "86786ede",
   "metadata": {},
   "outputs": [],
   "source": [
    "import pandas as pd"
   ]
  },
  {
   "cell_type": "code",
   "execution_count": 4,
   "id": "c603008e",
   "metadata": {},
   "outputs": [],
   "source": [
    "pnl_df = pd.read_excel('accounting_heads_pnL.xlsx')\n",
    "sample_df = pd.read_excel('Sample PnL.xlsx')"
   ]
  },
  {
   "cell_type": "code",
   "execution_count": 5,
   "id": "a2cec2c2",
   "metadata": {},
   "outputs": [],
   "source": [
    "sample_df = sample_df.rename(columns={'Lines Selected for :' : 'Expenses'})                                "
   ]
  },
  {
   "cell_type": "code",
   "execution_count": 6,
   "id": "ed397c84",
   "metadata": {
    "scrolled": true
   },
   "outputs": [],
   "source": [
    "sample_df['ItemSeqNo'] = \"\"\n",
    "\n",
    "# Iterate over rows of sample_df\n",
    "for idx, r in sample_df.iterrows():\n",
    "    # if our row is NA it continues \n",
    "    if(pd.isna(r['Expenses']) ):\n",
    "        continue\n",
    "        \n",
    "    is_seq_assigned = False\n",
    "    # Iterating in pnl_df for finding ItemSeqNo\n",
    "    for index, row in pnl_df.iterrows():\n",
    "        keywords = row['keywords'].split(',')\n",
    "        \n",
    "        for keyword in keywords:\n",
    "            # If the keyword is a subset of our expenses row, it assigns the value of ItemSeqNo\n",
    "            if(keyword.lower() in r['Expenses'].lower()):\n",
    "                sample_df.at[idx, 'ItemSeqNo'] = row[\"ItemSeqNo\"]\n",
    "                is_seq_assigned = True\n",
    "    # If sequence is not assinged than assign NA            \n",
    "    if not is_seq_assigned:\n",
    "        sample_df.at[idx, 'ItemSeqNo'] = \"NA\""
   ]
  },
  {
   "cell_type": "markdown",
   "id": "ffb89a4b",
   "metadata": {},
   "source": [
    "#### Exporting The Updated Sample Df"
   ]
  },
  {
   "cell_type": "code",
   "execution_count": 57,
   "id": "deb8ad3d",
   "metadata": {},
   "outputs": [],
   "source": [
    "sample_df.to_excel(\"updated_sample_pnl.xlsx\")"
   ]
  }
 ],
 "metadata": {
  "kernelspec": {
   "display_name": "Python 3 (ipykernel)",
   "language": "python",
   "name": "python3"
  },
  "language_info": {
   "codemirror_mode": {
    "name": "ipython",
    "version": 3
   },
   "file_extension": ".py",
   "mimetype": "text/x-python",
   "name": "python",
   "nbconvert_exporter": "python",
   "pygments_lexer": "ipython3",
   "version": "3.9.13"
  }
 },
 "nbformat": 4,
 "nbformat_minor": 5
}
